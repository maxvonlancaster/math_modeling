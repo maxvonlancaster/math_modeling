{
 "cells": [
  {
   "cell_type": "markdown",
   "metadata": {},
   "source": [
    "# Sentiment analysis of text samples for misinformation detection:\n",
    "---"
   ]
  },
  {
   "cell_type": "code",
   "execution_count": 1,
   "metadata": {},
   "outputs": [],
   "source": [
    "from text_parse import parse_file\n",
    "import linguistic_analysis\n",
    "import time\n",
    "import matplotlib.pyplot as plt\n",
    "import skfuzzy "
   ]
  },
  {
   "cell_type": "markdown",
   "metadata": {},
   "source": [
    "Let's try tf-idf for simple data set:"
   ]
  },
  {
   "cell_type": "code",
   "execution_count": 2,
   "metadata": {},
   "outputs": [
    {
     "name": "stdout",
     "output_type": "stream",
     "text": [
      "[0.        0.        1.9028523]\n",
      "Execution time: 0.0 seconds\n"
     ]
    }
   ],
   "source": [
    "start_time = time.time()\n",
    "\n",
    "rows = [\"minus plus\", \"cosine sin\", \"one two three\"]\n",
    "\n",
    "data_to_analyse = [\"hello world\", \"hello Valentyn\", \"vaccine trump vaccine clinton public plus minus one ctng pew\"]\n",
    "result = linguistic_analysis.analyse_tfidf(rows, data_to_analyse)\n",
    "\n",
    "end_time = time.time()\n",
    "execution_time = end_time - start_time\n",
    "\n",
    "print(result)\n",
    "print(f\"Execution time: {execution_time} seconds\")"
   ]
  },
  {
   "cell_type": "markdown",
   "metadata": {},
   "source": [
    "Let's try tf-idf on some real data:"
   ]
  },
  {
   "cell_type": "code",
   "execution_count": 3,
   "metadata": {},
   "outputs": [
    {
     "name": "stdout",
     "output_type": "stream",
     "text": [
      "[1.17104693 1.17104693 2.69103953]\n",
      "Execution time: 4.141622304916382 seconds\n"
     ]
    }
   ],
   "source": [
    "start_time = time.time()\n",
    "\n",
    "rows = parse_file(\"example.csv\", 1, 1000)\n",
    "\n",
    "data_to_analyse = [\"hello world\", \"morning hello Valentyn\", \"trump vaccine clinton public plus minus one ctng pew\"]\n",
    "result = linguistic_analysis.analyse_tfidf(rows, data_to_analyse)\n",
    "\n",
    "end_time = time.time()\n",
    "execution_time = end_time - start_time\n",
    "\n",
    "print(result)\n",
    "print(f\"Execution time: {execution_time} seconds\")"
   ]
  },
  {
   "cell_type": "markdown",
   "metadata": {},
   "source": [
    "Let's plot that result using matplotlib:"
   ]
  },
  {
   "cell_type": "code",
   "execution_count": 4,
   "metadata": {},
   "outputs": [
    {
     "data": {
      "text/plain": [
       "Text(0, 0.5, 'coefficient')"
      ]
     },
     "execution_count": 4,
     "metadata": {},
     "output_type": "execute_result"
    },
    {
     "data": {
      "image/png": "[encoded data removed]",
      "text/plain": [
       "<Figure size 640x480 with 1 Axes>"
      ]
     },
     "metadata": {},
     "output_type": "display_data"
    }
   ],
   "source": [
    "tags = [text.lower().split()[0] for text in data_to_analyse]\n",
    "plt.bar(tags, result)\n",
    "plt.xticks(tags)\n",
    "plt.yticks(result) \n",
    "plt.xlabel('text')\n",
    "plt.ylabel('coefficient')"
   ]
  },
  {
   "cell_type": "markdown",
   "metadata": {},
   "source": [
    "## TODO:\n",
    "\n",
    "- improve idf by selecting from train data \n",
    "- fuzzy logic \n",
    "- train nn on data \n",
    "- kohonen maps \n",
    "- diagram +\n",
    "- think about cosinus \n",
    "- main file in jupiter notebook +\n",
    "- n-grams (2, 3 words items) "
   ]
  }
 ],
 "metadata": {
  "kernelspec": {
   "display_name": "Python 3",
   "language": "python",
   "name": "python3"
  },
  "language_info": {
   "codemirror_mode": {
    "name": "ipython",
    "version": 3
   },
   "file_extension": ".py",
   "mimetype": "text/x-python",
   "name": "python",
   "nbconvert_exporter": "python",
   "pygments_lexer": "ipython3",
   "version": "3.10.0"
  }
 },
 "nbformat": 4,
 "nbformat_minor": 2
}
