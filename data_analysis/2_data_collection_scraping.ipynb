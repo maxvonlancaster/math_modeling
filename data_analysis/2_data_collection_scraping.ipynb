{
 "cells": [
  {
   "cell_type": "markdown",
   "metadata": {},
   "source": [
    "# Data Collection\n",
    "\n",
    "The first step of most data science pipelines, as you may imagine, is to get some data. Data that you typically use comes from many different sources. If you’re lucky, someone may hand directly had you a file, such as a CSV. Or sometimes you’ll need to issue a database query to collect the relevant data . But in this lecture, we’ll talk about collecting data from two main sources: 1) querying an API (the majority of which are web-based, these days); and 2) scraping data from a web page. "
   ]
  },
  {
   "cell_type": "markdown",
   "metadata": {},
   "source": [
    "## Collecting data from web-based sources\n",
    "\n",
    "The vast majority of automated data queries you will run will use HTTP requests\n",
    "(it’s become the dominant protocol for much more than just querying web pages)"
   ]
  },
  {
   "cell_type": "code",
   "execution_count": 2,
   "metadata": {},
   "outputs": [
    {
     "name": "stdout",
     "output_type": "stream",
     "text": [
      "Status Code: 200\n",
      "Headers: {'Date': 'Sun, 18 Aug 2024 13:47:40 GMT', 'Content-Type': 'text/html; charset=utf-8', 'Transfer-Encoding': 'chunked', 'Connection': 'keep-alive', 'vary': 'Accept-Encoding', 'content-security-policy': \"default-src 'self' data: 'unsafe-eval' 'unsafe-inline' *.gstatic.com *.googleapis.com *.googletagmanager.com *.addtoany.com *.youtube-nocookie.com *.google.com *.google-analytics.com *.ytimg.com *.facebook.com forms.gle *.chnu.edu.ua madmagz.com\", 'x-frame-options': 'SAMEORIGIN, SAMEORIGIN', 'x-content-type-options': 'nosniff', 'strict-transport-security': 'max-age=31536000', 'referrer-policy': 'no-referrer', 'permissions-policy': 'accelerometer=(), camera=(), geolocation=*, gyroscope=(), magnetometer=(), microphone=(), payment=(), usb=()', 'CF-Cache-Status': 'DYNAMIC', 'Report-To': '{\"endpoints\":[{\"url\":\"https:\\\\/\\\\/a.nel.cloudflare.com\\\\/report\\\\/v4?s=jzsoc%2F9fmYB%2BNLhbPj7MGfIeQ0snoYVSMd7GURUDaxyfE6FjjTLRe%2BUn4%2BIEspNxELuFs%2FjkJ4H2FJBZlWAWcLqJjIeQ9bUJi2X3RsrlgmqbmvwDFego09CnWD0oUPm4occ%3D\"}],\"group\":\"cf-nel\",\"max_age\":604800}', 'NEL': '{\"success_fraction\":0,\"report_to\":\"cf-nel\",\"max_age\":604800}', 'Server': 'cloudflare', 'CF-RAY': '8b525b6608115d55-FRA', 'Content-Encoding': 'gzip', 'alt-svc': 'h3=\":443\"; ma=86400'}\n"
     ]
    }
   ],
   "source": [
    "import requests\n",
    "response = requests.get(\"https://fmi.chnu.edu.ua/\")\n",
    "\n",
    "print(\"Status Code:\", response.status_code)\n",
    "print(\"Headers:\", response.headers)"
   ]
  },
  {
   "cell_type": "code",
   "execution_count": 5,
   "metadata": {},
   "outputs": [
    {
     "name": "stdout",
     "output_type": "stream",
     "text": [
      "<!DOCTYPE html>\n",
      "<html lang=\"uk\" prefix=\"og: https://ogp.me/ns#\">\n",
      "<head>\n",
      "    <meta charset=\"utf-8\" />\n",
      "    <meta name=\"viewport\" content=\"width=device-width, initial-scale=1\">\n",
      "        <title>&#x413;&#x43E;&#x43B;&#x43E;&#x432;&#x43D;&#x430; - &#x424;&#x430;&#x43A;&#x443;&#x43B;&#x44C;&#x442;&#x435;&#x442; &#x43C;&#x430;&#x442;&#x435;&#x43C;&#x430;&#x442;&#x438;&#x43A;&#x438; &#x442;&#x430; &#x456;&#x43D;&#x444;&#x43E;&#x440;&#x43C;&#x430;&#x442;&#x438;&#x43A;&#x438;</title\n"
     ]
    }
   ],
   "source": [
    "print(response.text[:480])"
   ]
  },
  {
   "cell_type": "markdown",
   "metadata": {},
   "source": [
    "You’ve seen URLs like these:\n",
    "https://www.google.com/url?sa=t&rct=j&q=&esrc=s&source=web&cd=9&cad=rja&uact=8…\n",
    "The weird statements after the url are parameters, you would provide them using\n",
    "the requests library like this:"
   ]
  },
  {
   "cell_type": "code",
   "execution_count": null,
   "metadata": {},
   "outputs": [],
   "source": [
    "params = {\"sa\":\"t\", \"rct\":\"j\", \"q\":\"\", \"esrc\":\"s\",\n",
    "\"source\":\"web\", \"cd\":\"9\", \"cad\":\"rja\", \"uact\":\"8\"}\n",
    "response = requests.get(\"http://www.google.com/url\", params=params)"
   ]
  },
  {
   "cell_type": "markdown",
   "metadata": {},
   "source": [
    "HTTP GET is the most common method, but there are also PUT, POST, DELETE\n",
    "methods that change some state on the server"
   ]
  },
  {
   "cell_type": "markdown",
   "metadata": {},
   "source": [
    "## RESTful APIs\n",
    "\n",
    "If you move beyond just querying web pages to web APIs, you’ll most likely\n",
    "encounter REST APIs (Representational State Transfer)\n",
    "REST is more a design architecture, but a few key points:\n",
    "1. Uses standard HTTP interface and methods (GET, PUT, POST, DELETE)\n",
    "2. Stateless – the server doesn’t remember what you were doing\n",
    "Rule of thumb: if you’re sending your account key along with each API call,\n",
    "you’re probably using a REST API\n",
    "\n",
    "You query a REST API similar to standard HTTP requests, but will almost always\n",
    "need to include parameters\n",
    "\n",
    "Get your own access token at https://github.com/settings/tokens/new\n",
    "GitHub API uses GET/PUT/DELETE to let you query or update elements in your\n",
    "GitHub account automatically\n",
    "Example of REST: server doesn’t remember your last queries, for instance you\n",
    "always need to include your access token if using it this way"
   ]
  },
  {
   "cell_type": "code",
   "execution_count": 6,
   "metadata": {},
   "outputs": [
    {
     "name": "stdout",
     "output_type": "stream",
     "text": [
      "b'{\"login\":\"maxvonlancaster\",\"id\":38358502,\"node_id\":\"MDQ6VXNlcjM4MzU4NTAy\",\"avatar_url\":\"https://avatars.githubusercontent.com/u/38358502?v=4\",\"gravatar_id\":\"\",\"url\":\"https://api.github.com/users/maxvonlancaster\",\"html_url\":\"https://github.com/maxvonlancaster\",\"followers_url\":\"https://api.github.com/users/maxvonlancaster/followers\",\"following_url\":\"https://api.github.com/users/maxvonlancaster/following{/other_user}\",\"gists_url\":\"https://api.github.com/users/maxvonlancaster/gists{/gist_id}\",\"starred_url\":\"https://api.github.com/users/maxvonlancaster/starred{/owner}{/repo}\",\"subscriptions_url\":\"https://api.github.com/users/maxvonlancaster/subscriptions\",\"organizations_url\":\"https://api.github.com/users/maxvonlancaster/orgs\",\"repos_url\":\"https://api.github.com/users/maxvonlancaster/repos\",\"events_url\":\"https://api.github.com/users/maxvonlancaster/events{/privacy}\",\"received_events_url\":\"https://api.github.com/users/maxvonlancaster/received_events\",\"type\":\"User\",\"site_admin\":false,\"name\":\"Vasyl Melnyk\",\"company\":null,\"blog\":\"\",\"location\":null,\"email\":null,\"hireable\":null,\"bio\":null,\"twitter_username\":null,\"notification_email\":null,\"public_repos\":59,\"public_gists\":0,\"followers\":12,\"following\":10,\"created_at\":\"2018-04-13T16:14:05Z\",\"updated_at\":\"2024-07-01T14:54:52Z\",\"private_gists\":0,\"total_private_repos\":14,\"owned_private_repos\":14,\"disk_usage\":95646,\"collaborators\":0,\"two_factor_authentication\":true,\"plan\":{\"name\":\"free\",\"space\":976562499,\"collaborators\":0,\"private_repos\":10000}}'\n"
     ]
    }
   ],
   "source": [
    "token = \"\" \n",
    "headers = {'Authorization': 'token '+token}\n",
    "response = requests.get(\"https://api.github.com/user\", headers=headers)\n",
    "print(response.content)\n"
   ]
  },
  {
   "cell_type": "markdown",
   "metadata": {},
   "source": [
    "## Data formats\n",
    "\n",
    "The three most common formats:\n",
    "1. CSV (comma separate value) files\n",
    "2. JSON (Javascript object notation) files and strings\n",
    "3. HTML/XML (hypertext markup language / extensible markup language) files\n",
    "and strings"
   ]
  },
  {
   "cell_type": "markdown",
   "metadata": {},
   "source": []
  }
 ],
 "metadata": {
  "kernelspec": {
   "display_name": "Python 3",
   "language": "python",
   "name": "python3"
  },
  "language_info": {
   "codemirror_mode": {
    "name": "ipython",
    "version": 3
   },
   "file_extension": ".py",
   "mimetype": "text/x-python",
   "name": "python",
   "nbconvert_exporter": "python",
   "pygments_lexer": "ipython3",
   "version": "3.10.0"
  }
 },
 "nbformat": 4,
 "nbformat_minor": 2
}
