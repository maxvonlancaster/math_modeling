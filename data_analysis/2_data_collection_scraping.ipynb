{
 "cells": [
  {
   "cell_type": "markdown",
   "metadata": {},
   "source": [
    "# Data Collection\n",
    "\n",
    "The first step of most data science pipelines is to get some data. Data that we typically use comes from many different sources. \n",
    "\n",
    "If you’re lucky, someone may hand directly had you a file, such as a CSV. Or sometimes you’ll need to issue a database query to collect the relevant data . But in this lecture, we’ll talk about collecting data from two main sources: \n",
    "\n",
    "- querying an API (the majority of which are web-based, these days); and \n",
    "- scraping data from a web page. "
   ]
  },
  {
   "cell_type": "markdown",
   "metadata": {},
   "source": [
    "## Collecting data from web-based sources\n",
    "\n",
    "The vast majority of automated data queries you will run will use HTTP requests\n",
    "(it’s become the dominant protocol for much more than just querying web pages)"
   ]
  },
  {
   "cell_type": "code",
   "execution_count": 27,
   "metadata": {},
   "outputs": [
    {
     "name": "stdout",
     "output_type": "stream",
     "text": [
      "Status Code: 200\n",
      "Headers: {'Date': 'Tue, 03 Sep 2024 07:59:04 GMT', 'Content-Type': 'text/html; charset=utf-8', 'Transfer-Encoding': 'chunked', 'Connection': 'keep-alive', 'vary': 'Accept-Encoding', 'content-security-policy': \"default-src 'self' data: 'unsafe-eval' 'unsafe-inline' *.gstatic.com *.googleapis.com *.googletagmanager.com *.addtoany.com *.youtube-nocookie.com *.google.com *.google-analytics.com *.ytimg.com *.facebook.com forms.gle *.chnu.edu.ua madmagz.com www.arcgis.com\", 'x-frame-options': 'SAMEORIGIN, SAMEORIGIN', 'x-content-type-options': 'nosniff', 'strict-transport-security': 'max-age=31536000', 'referrer-policy': 'no-referrer', 'permissions-policy': 'accelerometer=(), camera=(), geolocation=*, gyroscope=(), magnetometer=(), microphone=(), payment=(), usb=()', 'CF-Cache-Status': 'DYNAMIC', 'Report-To': '{\"endpoints\":[{\"url\":\"https:\\\\/\\\\/a.nel.cloudflare.com\\\\/report\\\\/v4?s=DedQ17vG70NpBxk8971ZD2Wzq1jpbAJnOWitJOyit9p6jjpBjqWCckl1GeJt3mDShqbGLIbZYUb8kQpuzf4Q69mTqnpZ0ri%2Fw6XHzlOusqgtXM4100llYF0v22KTgY%2B70Co%3D\"}],\"group\":\"cf-nel\",\"max_age\":604800}', 'NEL': '{\"success_fraction\":0,\"report_to\":\"cf-nel\",\"max_age\":604800}', 'Server': 'cloudflare', 'CF-RAY': '8bd432c48db6bf42-WAW', 'Content-Encoding': 'gzip', 'alt-svc': 'h3=\":443\"; ma=86400'}\n"
     ]
    }
   ],
   "source": [
    "import requests\n",
    "response = requests.get(\"https://fmi.chnu.edu.ua/\")\n",
    "\n",
    "print(\"Status Code:\", response.status_code)\n",
    "print(\"Headers:\", response.headers)"
   ]
  },
  {
   "cell_type": "code",
   "execution_count": 26,
   "metadata": {},
   "outputs": [
    {
     "name": "stdout",
     "output_type": "stream",
     "text": [
      "<!DOCTYPE html>\n",
      "<html lang=\"uk\" prefix=\"og: https://ogp.me/ns#\">\n",
      "<head>\n",
      "    <meta charset=\"utf-8\" />\n",
      "    <meta name=\"viewport\" content=\"width=device-width, initial-scale=1\">\n",
      "        <title>&#x413;&#x43E;&#x43B;&#x43E;&#x432;&#x43D;&#x430; - &#x424;&#\n"
     ]
    }
   ],
   "source": [
    "print(response.text[:255])"
   ]
  },
  {
   "cell_type": "markdown",
   "metadata": {},
   "source": [
    "You’ve seen URLs like these:\n",
    "https://www.google.com/url?sa=t&rct=j&q=&esrc=s&source=web&cd=9&cad=rja&uact=8…\n",
    "The statements after the url are parameters, you can provide them using\n",
    "the requests library like this:"
   ]
  },
  {
   "cell_type": "code",
   "execution_count": null,
   "metadata": {},
   "outputs": [],
   "source": [
    "params = {\"sa\":\"t\", \"rct\":\"j\", \"q\":\"\", \"esrc\":\"s\",\n",
    "\"source\":\"web\", \"cd\":\"9\", \"cad\":\"rja\", \"uact\":\"8\"}\n",
    "response = requests.get(\"http://www.google.com/url\", params=params)"
   ]
  },
  {
   "cell_type": "markdown",
   "metadata": {},
   "source": [
    "HTTP GET is the most common method, but there are also PUT, POST, DELETE\n",
    "methods that change some state on the server"
   ]
  },
  {
   "cell_type": "markdown",
   "metadata": {},
   "source": [
    "## RESTful APIs\n",
    "\n",
    "If you move beyond just querying web pages to web APIs, you’ll most likely\n",
    "encounter REST APIs (Representational State Transfer)\n",
    "REST is more a design architecture, but a few key points:\n",
    "1. Uses standard HTTP interface and methods (GET, PUT, POST, DELETE)\n",
    "2. Stateless – the server doesn’t remember what you were doing\n",
    "\n",
    "\n",
    "Rule of thumb: if you’re sending your account key along with each API call,\n",
    "you’re probably using a REST API\n",
    "\n",
    "You query a REST API similar to standard HTTP requests, but will almost always\n",
    "need to include parameters\n",
    "\n",
    "Get your own access token at https://github.com/settings/tokens/new\n",
    "GitHub API uses GET/PUT/DELETE to let you query or update elements in your\n",
    "GitHub account automatically\n",
    "Example of REST: server doesn’t remember your last queries, for instance you\n",
    "always need to include your access token if using it this way"
   ]
  },
  {
   "cell_type": "code",
   "execution_count": null,
   "metadata": {},
   "outputs": [],
   "source": [
    "token = \"\" \n",
    "headers = {'Authorization': 'token '+token}\n",
    "response = requests.get(\"https://api.github.com/user\", headers=headers)\n",
    "print(response.content)\n"
   ]
  },
  {
   "cell_type": "markdown",
   "metadata": {},
   "source": [
    "## Data formats\n",
    "\n",
    "The three most common formats:\n",
    "1. CSV (comma separate value) files\n",
    "2. JSON (Javascript object notation) files and strings\n",
    "3. HTML/XML (hypertext markup language / extensible markup language) files\n",
    "and strings"
   ]
  },
  {
   "cell_type": "markdown",
   "metadata": {},
   "source": [
    "## CSV files\n",
    "\n",
    "Refers to any delimited text file (not always separated by commas)\n",
    "\n",
    "If values themselves contain commas, you can enclose them in quotes (our\n",
    "registrar apparently always does this, just to be safe)"
   ]
  },
  {
   "cell_type": "code",
   "execution_count": null,
   "metadata": {},
   "outputs": [],
   "source": [
    "import pandas as pd\n",
    "\n",
    "dataframe = pd.read_csv(\"resources/example.csv\", delimiter=',', quotechar='\"')\n",
    "print(dataframe[0:40])"
   ]
  },
  {
   "cell_type": "markdown",
   "metadata": {},
   "source": [
    "## JSON files / string\n",
    "\n",
    "JSON originated as a way of encapsulating Javascript objects\\\n",
    "A number of different data types can be represented\n",
    "- Number: 1.0 (always assumed to be floating point)\n",
    "- String: \"string\"\n",
    "- Boolean: true or false\n",
    "- List (Array): [item1, item2, item3,…]\n",
    "- Dictionary (Object in Javascript): {\"key\":value}\n",
    "- Lists and Dictionaries can be embedded within each other:\n",
    "[{\"key\":[value1, [value2, value3]]}]"
   ]
  },
  {
   "cell_type": "markdown",
   "metadata": {},
   "source": [
    "### Example JSON data\n",
    "\n",
    "JSON from Github API\n",
    "\n",
    "```\n",
    "{\n",
    "'login': 'pvirtue',\n",
    "'id': 5945661,\n",
    "'node_id': 'MDQ6VXNlcjU5NDU2NjE=',\n",
    "'avatar_url': 'https://avatars.githubusercontent.com/u/5945661?v=4',\n",
    "...\n",
    "```"
   ]
  },
  {
   "cell_type": "markdown",
   "metadata": {},
   "source": [
    "### Parsing JSON in Python\n",
    "\n",
    "Built-in library to read/write Python objects from/to JSON files"
   ]
  },
  {
   "cell_type": "code",
   "execution_count": null,
   "metadata": {},
   "outputs": [],
   "source": [
    "import json\n",
    "# load json from a REST API call\n",
    "\n",
    "headers = {'Authorization': 'token ' + token}\n",
    "response = requests.get(\"https://api.github.com/user\", headers=headers)\n",
    "data = json.loads(response.content)\n",
    "\n",
    "#json.load(file) # load json from file\n",
    "#json.dumps(obj) # return json string\n",
    "#json.dump(obj, file) # write json to file"
   ]
  },
  {
   "cell_type": "markdown",
   "metadata": {},
   "source": [
    "## XML / HTML files\n",
    "\n",
    "The main format for the web (though XML seems to be loosing a bit of popularity to\n",
    "JSON for use in APIs / file formats)\n",
    "\n",
    "```\n",
    "<tag attribute=\"value\">\n",
    "    <subtag>\n",
    "        Some content for the subtag\n",
    "    </subtag>\n",
    "    <openclosetag attribute=\"value2”/>\n",
    "</tag>\n",
    "```\n",
    "\n",
    "XML files contain hiearchical content delineated by tags\n",
    "HTML is syntactically like XML but not as strict (e.g., open tags are not always closed)\n"
   ]
  },
  {
   "cell_type": "markdown",
   "metadata": {},
   "source": [
    "### Parsing XML/HTML in Python\n",
    "\n",
    "There are a number of XML/HTML parsers for Python, but a nice one for data\n",
    "science is the BeautifulSoup library (specifically focused on getting data out of\n",
    "XML/HTML files)"
   ]
  },
  {
   "cell_type": "code",
   "execution_count": null,
   "metadata": {},
   "outputs": [],
   "source": [
    "# get all the links within the webpage\n",
    "from bs4 import BeautifulSoup\n",
    "import requests\n",
    "\n",
    "response = requests.get(\"https://fmi.chnu.edu.ua/\")\n",
    "\n",
    "root = BeautifulSoup(response.content)\n",
    "root.find(\"div\").findAll(\"a\")"
   ]
  },
  {
   "cell_type": "markdown",
   "metadata": {},
   "source": [
    "## Regular expressions\n",
    "\n",
    "Once you have loaded data (or if you need to build a parser to load some other\n",
    "data format), you will often need to search for specific elements within the data.\n",
    "\n",
    "E.g., find the first occurrence of the string “data science”"
   ]
  },
  {
   "cell_type": "code",
   "execution_count": null,
   "metadata": {},
   "outputs": [],
   "source": [
    "import re\n",
    "text = \"This course will introduce the basics of data science\"\n",
    "match = re.search(r\"data science\", text)\n",
    "print(match.start())\n",
    "print(re.match(r\"This\", text))\n",
    "\n",
    "# Regular expressions in Python\n",
    "\n",
    "match = re.match(r\"data science\", text) # check if start of text matches\n",
    "match = re.search(r\"data science\", text) # find first match or None\n",
    "\n",
    "all_matches = re.findall(r\"a\", text) # return all matches\n",
    "print(all_matches)\n",
    "\n",
    "\n",
    "# You can also use “compiled” version of regular expressions\n",
    "# regex = re.compile(r\"data science\")\n",
    "# regex.match(text, [startpos, [endpos]])\n",
    "# regex.search(...)\n",
    "# regex.finditer(...)\n",
    "# regex.findall(...)"
   ]
  },
  {
   "cell_type": "markdown",
   "metadata": {},
   "source": [
    "### Matching multiple potential characters\n",
    "\n",
    "The real power of regular expressions comes in the ability to match multiple\n",
    "possible sequence of characters.\n",
    "Special characters in regular expressions: `.^$*+?{}\\[]|()` (if you want to match these\n",
    "characters exactly, you need to escape them: `\\$`)\n",
    "\n",
    "Match sets of characters:\n",
    "- Match the character ‘a’: `a`\n",
    "- Match the character ‘a’, ‘b’, or ‘c’: `[abc]`\n",
    "- Many any character except ‘a’, ‘b’, or ‘c’: `[^abc]`\n",
    "- Match any digit: `\\d` (the same as `[0-9]`)\n",
    "- Match any alpha-numeric: `\\w` (the same as `[a-zA-z0-9_]`)\n",
    "- Match whitespace: `\\s` (the same as `[ \\t\\n\\r\\f\\v]`)\n",
    "- Match any character: `.` (including newline with re.DOTALL)\n",
    "\n",
    "Can match one or more instances of a character (or set of characters)\n",
    "\n",
    "Some common modifiers:\n",
    "- Match character ‘a’ exactly once: `a`\n",
    "- Match character ‘a’ zero or one time: `a?`\n",
    "- Match character ‘a’ zero or more times: `a*`\n",
    "- Match character ‘a’ one or more times: `a+`\n",
    "- Match character ‘a’ exactly n times: `a{n}`\n",
    "\n",
    "Can combine these with multiple character matching:\n",
    "- Match all instances of “`<something>` science” where `<something>` is an\n",
    "alphanumeric string with at least one character\n",
    "- `\\w+\\s+science`\n"
   ]
  },
  {
   "cell_type": "markdown",
   "metadata": {},
   "source": [
    "\n",
    "### Grouping\n",
    "\n",
    "We often want to obtain more information that just whether we found a match or\n",
    "not (for instance, we may want to know what text matched)\n",
    "\n",
    "Grouping: enclose portions of the regular expression in parentheses to\n",
    "“remember” these portions of the match\n",
    "`(\\w+)\\s([Ss]cience)`"
   ]
  },
  {
   "cell_type": "code",
   "execution_count": null,
   "metadata": {},
   "outputs": [],
   "source": [
    "text = \"This course will introduce the basics of data science\"\n",
    "match = re.search(r\"(\\w+)\\s([Ss]cience)\", text)\n",
    "print(match.start(), match.groups())\n",
    "# Why the ‘r’ before the string? Avoids need to double escape strings"
   ]
  },
  {
   "cell_type": "markdown",
   "metadata": {},
   "source": [
    "### Substitutions\n",
    "\n",
    "Regular expressions provide a power mechanism for replacing some text with\n",
    "other text"
   ]
  },
  {
   "cell_type": "code",
   "execution_count": null,
   "metadata": {},
   "outputs": [],
   "source": [
    "better_text = re.sub(r\"data science\", r\"schmada science\", text)\n",
    "\n",
    "# To include text that was remembered in the matching using groups, use the escaped sequences \n",
    "# \\1, \\2, … in the substitution text\n",
    "better_text = re.sub(r\"(\\w+)\\s([Ss])cience\", r\"\\1 \\2hmience\", text)\n",
    "print(better_text)"
   ]
  },
  {
   "cell_type": "markdown",
   "metadata": {},
   "source": [
    "### Ordering and greedy matching\n",
    "\n",
    "There is an order of operations in regular expressions.\n",
    "`abc|def` matches the strings “abc” or “def”, not “ab(c or d)ef”.\n",
    "You can get around this using parenthesis e.g. `a(bc|de)f`.\n",
    "This also creates a group, use `a(?:bc|de)f` if you don’t want to capture it.\n",
    "\n",
    "By default, regular expressions try to capture as much text as possible (greedy\n",
    "matching).\n",
    "`<(.*)>` applied to `<a>text</a>` will match the entire expression.\n",
    "If you want to capture the least amount of text possible use `<(.*?)>` this will\n",
    "just match the `<a>` term."
   ]
  }
 ],
 "metadata": {
  "kernelspec": {
   "display_name": "Python 3",
   "language": "python",
   "name": "python3"
  },
  "language_info": {
   "codemirror_mode": {
    "name": "ipython",
    "version": 3
   },
   "file_extension": ".py",
   "mimetype": "text/x-python",
   "name": "python",
   "nbconvert_exporter": "python",
   "pygments_lexer": "ipython3",
   "version": "3.10.0"
  }
 },
 "nbformat": 4,
 "nbformat_minor": 2
}
