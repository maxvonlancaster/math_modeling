{
 "cells": [
  {
   "cell_type": "markdown",
   "metadata": {},
   "source": [
    "# Fuzzy Logic for Mood Detection\n",
    "the goal is to use fuzzy logic to interpret the mood conveyed in a paragraph of text.\n",
    "- **Fuzzy Set Definition**: Define fuzzy sets for each mood you wish to detect, such as happy, sad, angry, etc. Each set will have a range of values that indicate the degree to which a given text belongs to that mood.\n",
    "\n",
    "- **Fuzzification of Input**: Transform the words or phrases in your paragraph into fuzzy values. This means assigning a degree of membership to each word for each mood-based fuzzy set. For example, \"joyful\" may have a high degree of membership in the happy set, while \"gloomy\" may have a high degree in the sad set.\n",
    "\n",
    "- **Rule Creation**: Develop rules that handle the combination of these fuzzy values. For instance, if a sentence contains a mix of words that have high membership values for both happy and sad sets, you'll need rules to decide how these combine to give a final mood for the sentence.\n",
    "\n",
    "- **Context Analysis**: Context plays a crucial role in determining mood. The same word can convey different moods depending on its context. For instance, \"killed it\" could mean something very positive in one context (e.g., a performance) and something negative in another. Rules should account for such variations.\n",
    "\n",
    "- **Inference Engine**: Apply these rules to the fuzzified inputs to infer the mood of the paragraph. This is the engine of your fuzzy logic system, where the magic happens – taking your input values and rules, and using them to determine the mood.\n",
    "\n",
    "- **Defuzzification**: Finally, convert the fuzzy inferences into a single, crisp output. This could be a single mood label or a composite score that reflects the paragraph's overall mood."
   ]
  },
  {
   "cell_type": "code",
   "execution_count": 1,
   "metadata": {},
   "outputs": [],
   "source": [
    "import numpy as np\n",
    "import skfuzzy as fuzz\n",
    "import matplotlib.pyplot as plt"
   ]
  },
  {
   "cell_type": "markdown",
   "metadata": {},
   "source": [
    "## Let's create a lexicon:"
   ]
  },
  {
   "cell_type": "code",
   "execution_count": 2,
   "metadata": {},
   "outputs": [],
   "source": [
    "# Define the lexicon with mood vectors\n",
    "lexicon = {\n",
    "    \"frustrated\": {\"Angry\": 0.8, \"Worried\": 0.4, \"Sad\": 0.3, \"Calm\": 0, \"Happy\": 0, \"Excited\": 0},\n",
    "    \"anxious\": {\"Angry\": 0.3, \"Worried\": 0.9, \"Sad\": 0.4, \"Calm\": 0, \"Happy\": 0, \"Excited\": 0.1},\n",
    "    \"disappointed\": {\"Angry\": 0.5, \"Worried\": 0.3, \"Sad\": 0.8, \"Calm\": 0.1, \"Happy\": 0, \"Excited\": 0},\n",
    "    \"peaceful\": {\"Angry\": 0, \"Worried\": 0, \"Sad\": 0, \"Calm\": 1, \"Happy\": 0.4, \"Excited\": 0.2},\n",
    "    \"joyful\": {\"Angry\": 0, \"Worried\": 0, \"Sad\": 0, \"Calm\": 0.2, \"Happy\": 0.9, \"Excited\": 0.7},\n",
    "    \"thrilled\": {\"Angry\": 0, \"Worried\": 0, \"Sad\": 0, \"Calm\": 0, \"Happy\": 0.6, \"Excited\": 1},\n",
    "    \"irate\": {\"Angry\": 0.9, \"Worried\": 0.2, \"Sad\": 0.1, \"Calm\": 0, \"Happy\": 0, \"Excited\": 0},\n",
    "    \"nervous\": {\"Angry\": 0.2, \"Worried\": 0.8, \"Sad\": 0.3, \"Calm\": 0.1, \"Happy\": 0, \"Excited\": 0.2},\n",
    "    \"melancholy\": {\"Angry\": 0.1, \"Worried\": 0.4, \"Sad\": 0.9, \"Calm\": 0.2, \"Happy\": 0, \"Excited\": 0},\n",
    "    \"serene\": {\"Angry\": 0, \"Worried\": 0, \"Sad\": 0, \"Calm\": 0.9, \"Happy\": 0.8, \"Excited\": 0.9},\n",
    "    \"elated\": {\"Angry\": 0, \"Worried\": 0, \"Sad\": 0, \"Calm\": 0.1, \"Happy\": 0.8, \"Excited\": 0.9},\n",
    "    \"ecstatic\": {\"Angry\": 0, \"Worried\": 0, \"Sad\": 0, \"Calm\": 0, \"Happy\": 0.7, \"Excited\": 1}\n",
    "    }"
   ]
  },
  {
   "cell_type": "code",
   "execution_count": 3,
   "metadata": {},
   "outputs": [],
   "source": [
    "# Sample text\n",
    "text = \"The serene atmosphere of the park made everyone feel peaceful. Amidst this tranquility, one could spot an irate man arguing over the phone, his frustration evident. Nearby, a nervous child clung to her mother, anxious about her first day at school. In contrast, a group of friends shared joyful laughter, clearly elated by their reunion. An elderly man sat alone on a bench, his melancholy gaze fixed on the distant horizon. Amidst the crowd, a serene monk walked by, his calm demeanor unaffected by the surrounding chaos. In the midst of these varied emotions, an ecstatic artist completed his masterpiece, thrilled by the outcome.\"\n",
    "\n",
    "# Convert text to lowercase and split into words\n",
    "words = text.lower().split()\n"
   ]
  },
  {
   "cell_type": "code",
   "execution_count": 4,
   "metadata": {},
   "outputs": [
    {
     "name": "stdout",
     "output_type": "stream",
     "text": [
      "Word: 'serene', Moods: {'Angry': 0, 'Worried': 0, 'Sad': 0, 'Calm': 0.9, 'Happy': 0.8, 'Excited': 0.9}\n",
      "Word: 'peaceful', Moods: {'Angry': 0, 'Worried': 0, 'Sad': 0, 'Calm': 1, 'Happy': 0.4, 'Excited': 0.2}\n",
      "Word: 'irate', Moods: {'Angry': 0.9, 'Worried': 0.2, 'Sad': 0.1, 'Calm': 0, 'Happy': 0, 'Excited': 0}\n",
      "Word: 'nervous', Moods: {'Angry': 0.2, 'Worried': 0.8, 'Sad': 0.3, 'Calm': 0.1, 'Happy': 0, 'Excited': 0.2}\n",
      "Word: 'anxious', Moods: {'Angry': 0.3, 'Worried': 0.9, 'Sad': 0.4, 'Calm': 0, 'Happy': 0, 'Excited': 0.1}\n",
      "Word: 'joyful', Moods: {'Angry': 0, 'Worried': 0, 'Sad': 0, 'Calm': 0.2, 'Happy': 0.9, 'Excited': 0.7}\n",
      "Word: 'elated', Moods: {'Angry': 0, 'Worried': 0, 'Sad': 0, 'Calm': 0.1, 'Happy': 0.8, 'Excited': 0.9}\n",
      "Word: 'melancholy', Moods: {'Angry': 0.1, 'Worried': 0.4, 'Sad': 0.9, 'Calm': 0.2, 'Happy': 0, 'Excited': 0}\n",
      "Word: 'ecstatic', Moods: {'Angry': 0, 'Worried': 0, 'Sad': 0, 'Calm': 0, 'Happy': 0.7, 'Excited': 1}\n",
      "Word: 'thrilled', Moods: {'Angry': 0, 'Worried': 0, 'Sad': 0, 'Calm': 0, 'Happy': 0.6, 'Excited': 1}\n"
     ]
    }
   ],
   "source": [
    "# Initialize a dictionary to store the results\n",
    "mood_vectors = {}\n",
    "\n",
    "# Iterate through words to identify and store words present in the lexicon\n",
    "for word in words:\n",
    "    cleaned_word = word.strip('.,')\n",
    "    if cleaned_word in lexicon:\n",
    "        mood_vectors[cleaned_word] = lexicon[cleaned_word]\n",
    "\n",
    "# mood_vectors now contains the words and their associated mood vectors\n",
    "for word, moods in mood_vectors.items():\n",
    "    print(f\"Word: '{word}', Moods: {moods}\")"
   ]
  }
 ],
 "metadata": {
  "kernelspec": {
   "display_name": "Python 3",
   "language": "python",
   "name": "python3"
  },
  "language_info": {
   "codemirror_mode": {
    "name": "ipython",
    "version": 3
   },
   "file_extension": ".py",
   "mimetype": "text/x-python",
   "name": "python",
   "nbconvert_exporter": "python",
   "pygments_lexer": "ipython3",
   "version": "3.10.0"
  }
 },
 "nbformat": 4,
 "nbformat_minor": 2
}
