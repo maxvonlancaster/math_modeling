{
 "cells": [
  {
   "cell_type": "markdown",
   "metadata": {},
   "source": [
    "# Fuzzy Logic for Mood Detection"
   ]
  },
  {
   "cell_type": "code",
   "execution_count": 1,
   "metadata": {},
   "outputs": [],
   "source": [
    "import numpy as np\n",
    "import skfuzzy as fuzz\n",
    "import matplotlib.pyplot as plt\n",
    "from skfuzzy import control as ctrl"
   ]
  },
  {
   "cell_type": "markdown",
   "metadata": {},
   "source": [
    "### Fuzzy set definition:"
   ]
  },
  {
   "cell_type": "code",
   "execution_count": null,
   "metadata": {},
   "outputs": [],
   "source": [
    "# Define the universe of discourse for the \"Angry\" mood\n",
    "x_angry = np.arange(0,10,1)\n",
    "\n",
    "# Define trapezoidal membership functions for \"Angry\"\n",
    "angry_low = fuzz.trapmf(x_angry, [0, 0, 2, 4])\n",
    "angry_middle = fuzz.trapmf(x_angry, [3, 5, 6, 8])\n",
    "angry_high = fuzz.trapmf(x_angry, [6, 8, 10, 10])\n",
    "\n",
    "# Plotting the membership functions\n",
    "fig, ax = plt.subplots()\n",
    "\n",
    "ax.plot(x_angry, angry_low, 'g', linewidth=1.5, label='Low')\n",
    "ax.plot(x_angry, angry_middle, 'r', linewidth=1.5, label='Middle')\n",
    "ax.plot(x_angry, angry_high, 'c', linewidth=1.5, label='High')\n",
    "\n",
    "ax.set_title('Angry Mood Membership Functions (Trapezoidal)')\n",
    "ax.legend()\n",
    "\n",
    "# Turn off top/right axes\n",
    "for ax in (ax,):\n",
    "    ax.spines['top'].set_visible(False)\n",
    "    ax.spines['right'].set_visible(False)\n",
    "    ax.get_xaxis().tick_bottom()\n",
    "    ax.get_yaxis().tick_left()\n",
    "\n",
    "plt.tight_layout()\n",
    "\n",
    "plt.show()"
   ]
  },
  {
   "cell_type": "markdown",
   "metadata": {},
   "source": [
    "do the same for each mood in a loop:"
   ]
  },
  {
   "cell_type": "code",
   "execution_count": null,
   "metadata": {},
   "outputs": [],
   "source": [
    "# to do - omplement"
   ]
  },
  {
   "cell_type": "markdown",
   "metadata": {},
   "source": [
    "### Let's create a lexicon:"
   ]
  },
  {
   "cell_type": "code",
   "execution_count": null,
   "metadata": {},
   "outputs": [],
   "source": [
    "# Define the lexicon with mood vectors\n",
    "lexicon = {\n",
    "    \"frustrated\": {\"Angry\": 0.8, \"Worried\": 0.4, \"Sad\": 0.3, \"Calm\": 0, \"Happy\": 0, \"Excited\": 0},\n",
    "    \"anxious\": {\"Angry\": 0.3, \"Worried\": 0.9, \"Sad\": 0.4, \"Calm\": 0, \"Happy\": 0, \"Excited\": 0.1},\n",
    "    \"disappointed\": {\"Angry\": 0.5, \"Worried\": 0.3, \"Sad\": 0.8, \"Calm\": 0.1, \"Happy\": 0, \"Excited\": 0},\n",
    "    \"peaceful\": {\"Angry\": 0, \"Worried\": 0, \"Sad\": 0, \"Calm\": 1, \"Happy\": 0.4, \"Excited\": 0.2},\n",
    "    \"joyful\": {\"Angry\": 0, \"Worried\": 0, \"Sad\": 0, \"Calm\": 0.2, \"Happy\": 0.9, \"Excited\": 0.7},\n",
    "    \"thrilled\": {\"Angry\": 0, \"Worried\": 0, \"Sad\": 0, \"Calm\": 0, \"Happy\": 0.6, \"Excited\": 1},\n",
    "    \"irate\": {\"Angry\": 0.9, \"Worried\": 0.2, \"Sad\": 0.1, \"Calm\": 0, \"Happy\": 0, \"Excited\": 0},\n",
    "    \"nervous\": {\"Angry\": 0.2, \"Worried\": 0.8, \"Sad\": 0.3, \"Calm\": 0.1, \"Happy\": 0, \"Excited\": 0.2},\n",
    "    \"melancholy\": {\"Angry\": 0.1, \"Worried\": 0.4, \"Sad\": 0.9, \"Calm\": 0.2, \"Happy\": 0, \"Excited\": 0},\n",
    "    \"serene\": {\"Angry\": 0, \"Worried\": 0, \"Sad\": 0, \"Calm\": 0.9, \"Happy\": 0.8, \"Excited\": 0.9},\n",
    "    \"elated\": {\"Angry\": 0, \"Worried\": 0, \"Sad\": 0, \"Calm\": 0.1, \"Happy\": 0.8, \"Excited\": 0.9},\n",
    "    \"ecstatic\": {\"Angry\": 0, \"Worried\": 0, \"Sad\": 0, \"Calm\": 0, \"Happy\": 0.7, \"Excited\": 1}\n",
    "    }"
   ]
  }
 ],
 "metadata": {
  "kernelspec": {
   "display_name": "Python 3",
   "language": "python",
   "name": "python3"
  },
  "language_info": {
   "codemirror_mode": {
    "name": "ipython",
    "version": 3
   },
   "file_extension": ".py",
   "mimetype": "text/x-python",
   "name": "python",
   "nbconvert_exporter": "python",
   "pygments_lexer": "ipython3",
   "version": "3.10.0"
  }
 },
 "nbformat": 4,
 "nbformat_minor": 2
}
