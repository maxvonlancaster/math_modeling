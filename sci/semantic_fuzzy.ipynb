{
 "cells": [
  {
   "cell_type": "markdown",
   "metadata": {},
   "source": [
    "# Fuzzy Logic for Mood Detection"
   ]
  },
  {
   "cell_type": "code",
   "execution_count": 1,
   "metadata": {},
   "outputs": [],
   "source": [
    "import numpy as np\n",
    "import skfuzzy as fuzz\n",
    "import matplotlib.pyplot as plt\n",
    "from skfuzzy import control as ctrl"
   ]
  },
  {
   "cell_type": "markdown",
   "metadata": {},
   "source": [
    "### Fuzzy set definition:"
   ]
  },
  {
   "cell_type": "code",
   "execution_count": null,
   "metadata": {},
   "outputs": [],
   "source": [
    "# Define the universe of discourse for the \"Angry\" mood\n",
    "x_angry = np.arange(0,10,1)\n",
    "\n",
    "# Define trapezoidal membership functions for \"Angry\"\n",
    "angry_low = fuzz.trapmf(x_angry, [0, 0, 2, 4])\n",
    "angry_middle = fuzz.trapmf(x_angry, [3, 5, 6, 8])\n",
    "angry_high = fuzz.trapmf(x_angry, [6, 8, 10, 10])\n",
    "\n",
    "# Plotting the membership functions\n",
    "fig, ax = plt.subplots()\n",
    "\n",
    "ax.plot(x_angry, angry_low, 'g', linewidth=1.5, label='Low')\n",
    "ax.plot(x_angry, angry_middle, 'r', linewidth=1.5, label='Middle')\n",
    "ax.plot(x_angry, angry_high, 'c', linewidth=1.5, label='High')\n",
    "\n",
    "ax.set_title('Angry Mood Membership Functions (Trapezoidal)')\n",
    "ax.legend()\n",
    "\n",
    "# Turn off top/right axes\n",
    "for ax in (ax,):\n",
    "    ax.spines['top'].set_visible(False)\n",
    "    ax.spines['right'].set_visible(False)\n",
    "    ax.get_xaxis().tick_bottom()\n",
    "    ax.get_yaxis().tick_left()\n",
    "\n",
    "plt.tight_layout()\n",
    "\n",
    "plt.show()"
   ]
  },
  {
   "cell_type": "markdown",
   "metadata": {},
   "source": [
    "do the same for each mood in a loop:"
   ]
  },
  {
   "cell_type": "code",
   "execution_count": null,
   "metadata": {},
   "outputs": [],
   "source": [
    "# to do - omplement"
   ]
  },
  {
   "cell_type": "markdown",
   "metadata": {},
   "source": [
    "### Let's create a lexicon:"
   ]
  },
  {
   "cell_type": "code",
   "execution_count": null,
   "metadata": {},
   "outputs": [],
   "source": [
    "# Define the lexicon with mood vectors\n",
    "moods = {0: \"Angry\", 1: \"Worried\", 2: \"Sad\", 3: \"Calm\", 4: \"Happy\", 5: \"Excited\"}\n",
    "\n",
    "lexicon = {\n",
    "    \"frustrated\": [0.8, 0.4, 0.3, 0, 0, 0],\n",
    "    \"anxious\": [0.3, 0.9, 0.4, 0, 0, 0.1],\n",
    "    \"disappointed\": [0.5, 0.3, 0.8, 0.1, 0, 0],\n",
    "    \"peaceful\": [0, 0, 0, 1, 0.4, 0.2],\n",
    "    \"joyful\": [0, 0, 0, 0.2, 0.9, 0.7],\n",
    "    \"thrilled\": [0, 0, 0, 0, 0.6, 1],\n",
    "    \"irate\": [0.9, 0.2, 0.1, 0, 0, 0],\n",
    "    \"nervous\": [0.2, 0.8, 0.3, 0.1, 0, 0.2],\n",
    "    \"melancholy\": [0.1, 0.4, 0.9, 0.2, 0, 0], \n",
    "    \"serene\": [0, 0, 0, 0.9, 0.8, 0.9], \n",
    "    \"elated\": [0, 0, 0, 0.1, 0.8, 0.9],\n",
    "    \"ecstatic\": [0, 0, 0, 0, 0.7, 1],\n",
    "    \"overjoyed\": [0.1, 0.1, 0.1, 0.1, 1, 0.9],\n",
    "    \"gleeful\": [0.1, 0.1, 0.1, 0.1, 0.9, 0.8],\n",
    "    \"cheerful\": [0.1, 0.1, 0.1, 0.1, 0.8, 0.5],\n",
    "    \"optimistic\": [0.1, 0.2, 0.1, 0.7, 0.8, 0.6],\n",
    "    \"buoyant\": [0.1, 0.2, 0.1, 0.8, 0.7, 0.7],\n",
    "    \"enthusiastic\": [0.2, 0.3, 0.1, 0.6, 0.8, 0.9],\n",
    "    \"upbeat\": [0.1, 0.2, 0.1, 0.7, 0.8, 0.7],\n",
    "    \"festive\": [0.1, 0.1, 0.1, 0.7, 0.8, 0.7],\n",
    "    \"playful\": [0.1, 0.2, 0.1, 0.6, 0.7, 0.8],\n",
    "    \"vivacious\": [0.1, 0.2, 0.1, 0.6, 0.8, 0.7],\n",
    "    \"jovial\": [0.1, 0.2, 0.1, 0.7, 0.8, 0.7],\n",
    "    \"amused\": [0.1, 0.2, 0.1, 0.6, 0.7, 0.7],\n",
    "    \"blissful\": [0.1, 0.1, 0.1, 0.8, 0.9, 0.7],\n",
    "    \"grateful\": [0.1, 0.1, 0.1, 0.8, 0.9, 0.7],\n",
    "    \"serene\": [0.1, 0.1, 0.1, 0.9, 0.8, 0.6],\n",
    "    \"tranquil\": [0.1, 0.1, 0.1, 0.9, 0.8, 0.6],\n",
    "    \"relaxed\": [0.1, 0.1, 0.1, 0.9, 0.8, 0.6],\n",
    "    \"comfortable\": [0.1, 0.1, 0.1, 0.8, 0.8, 0.6],\n",
    "    \"cozy\": [0.1, 0.1, 0.1, 0.8, 0.8, 0.6],\n",
    "    \"warm\": [0.1, 0.1, 0.1, 0.8, 0.8, 0.6],\n",
    "    \"inviting\": [0.1, 0.1, 0.1, 0.8, 0.8, 0.6],\n",
    "    \"pleasant\": [0.1, 0.1, 0.1, 0.8, 0.8, 0.6],\n",
    "    \"mellow\": [0.1, 0.1, 0.1, 0.8, 0.8, 0.6]\n",
    "    }"
   ]
  }
 ],
 "metadata": {
  "kernelspec": {
   "display_name": "Python 3",
   "language": "python",
   "name": "python3"
  },
  "language_info": {
   "codemirror_mode": {
    "name": "ipython",
    "version": 3
   },
   "file_extension": ".py",
   "mimetype": "text/x-python",
   "name": "python",
   "nbconvert_exporter": "python",
   "pygments_lexer": "ipython3",
   "version": "3.10.0"
  }
 },
 "nbformat": 4,
 "nbformat_minor": 2
}
